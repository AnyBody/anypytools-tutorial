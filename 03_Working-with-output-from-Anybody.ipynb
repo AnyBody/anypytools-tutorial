{
 "cells": [
  {
   "cell_type": "markdown",
   "metadata": {},
   "source": [
    "# Working with data from AnyBody"
   ]
  },
  {
   "cell_type": "markdown",
   "metadata": {},
   "source": [
    "There are several ways to output data from AnyBody. The most convinient way to export a few variables from AnyBody is through the API in AnyPyTools. This is what you saw in the previous tutorials which used the 'Dump' macro class operation to export specific variables. \n",
    "\n",
    "Another option is to have AnyBody write specific variables to a file by adding the 'AnyOutputFile' class to the AnyBody model, or exporting an HDF5 file with all data from a simulation. In these cases AnyPyTools has methods to make it easier to get data into Python for futher analysis. \n",
    "\n",
    "Here we go through the different methods. "
   ]
  },
  {
   "cell_type": "markdown",
   "metadata": {},
   "source": [
    "## Output data through AnyPyTools\n",
    "\n",
    "Using the AnyPyTools API directly is the easiest way to export data when you only need to export a limited number of variables.\n",
    "\n",
    "In the following we use the toy example from the \"Generating Macros\" tutorial. We crate 6 macros with different parameters and collect the result from running the simulations. Data is exported by including the `Dump(\"<folder/variable name>\")` command. If a folder is specified all variables below that level is exported.\n",
    "\n",
    "> **Note:** Remember to specifiy the variables in study `.Ouput.*` folder if you need the results of a simulation. "
   ]
  },
  {
   "cell_type": "code",
   "execution_count": 1,
   "metadata": {},
   "outputs": [
    {
     "data": {
      "application/vnd.jupyter.widget-view+json": {
       "model_id": "613e72e4c5ab48febad4e655c225a3e2",
       "version_major": 2,
       "version_minor": 0
      },
      "text/plain": [
       "Output()"
      ]
     },
     "metadata": {},
     "output_type": "display_data"
    },
    {
     "name": "stdout",
     "output_type": "stream",
     "text": [
      "Completed: \u001b[1;36m6\u001b[0m\n"
     ]
    },
    {
     "data": {
      "text/html": [
       "<pre style=\"white-space:pre;overflow-x:auto;line-height:normal;font-family:Menlo,'DejaVu Sans Mono',consolas,'Courier New',monospace\"></pre>\n"
      ],
      "text/plain": []
     },
     "metadata": {},
     "output_type": "display_data"
    }
   ],
   "source": [
    "from anypytools import AnyMacro, AnyPyProcess, macro_commands as mc\n",
    "\n",
    "macro_list = []\n",
    "\n",
    "for i in range(6):\n",
    "    macro_list.append([\n",
    "        mc.Load(\"Knee.any\"),\n",
    "        mc.SetValue(\"Main.MyModel.PatellaLigament.DriverPos\", 0.02 + i * 0.01),\n",
    "        mc.OperationRun(\"Main.MyStudy.InverseDynamics\"),\n",
    "        mc.Dump(\"Main.MyStudy.Output.Abscissa.t\"),\n",
    "        mc.Dump(\"Main.MyStudy.Output.MaxMuscleActivity\"),\n",
    "        mc.Dump(\"Main.MyModel.PatellaLigament.DriverPos\"),\n",
    "    ])\n",
    "\n",
    "app = AnyPyProcess()\n",
    "results = app.start_macro(macro_list)"
   ]
  },
  {
   "cell_type": "markdown",
   "metadata": {},
   "source": [
    "Now the variable `results` is a list of dictionaries with the output from AnyBody. This is a very flexible format that can hold any kind of data we can output from AnyBody."
   ]
  },
  {
   "cell_type": "code",
   "execution_count": 2,
   "metadata": {},
   "outputs": [
    {
     "data": {
      "text/plain": [
       "array([0.04])"
      ]
     },
     "execution_count": 2,
     "metadata": {},
     "output_type": "execute_result"
    }
   ],
   "source": [
    "results[2][\"Main.MyModel.PatellaLigament.DriverPos\"]"
   ]
  },
  {
   "cell_type": "markdown",
   "metadata": {},
   "source": [
    "If we plot this data we need to do some manual work. I.e. looping over the list and plot individual variables. \n",
    "\n",
    "However, it can be made much easier if we convert data into a Pandas DataFrame. A DataFrame is like an excel spreadsheet. Most python plotting libries can plot directly from that.\n",
    "\n",
    "> *Note:* Not all data is suitable for convertion to a DataFrame. You data needs the same type of output in every simulation. Also, a DataFrame is 2 dimensional so higher dimensional data (like vectors) are flattend with x/y/z components into seperate collumns."
   ]
  },
  {
   "cell_type": "code",
   "execution_count": 3,
   "metadata": {},
   "outputs": [
    {
     "data": {
      "text/html": [
       "<div>\n",
       "<style scoped>\n",
       "    .dataframe tbody tr th:only-of-type {\n",
       "        vertical-align: middle;\n",
       "    }\n",
       "\n",
       "    .dataframe tbody tr th {\n",
       "        vertical-align: top;\n",
       "    }\n",
       "\n",
       "    .dataframe thead th {\n",
       "        text-align: right;\n",
       "    }\n",
       "</style>\n",
       "<table border=\"1\" class=\"dataframe\">\n",
       "  <thead>\n",
       "    <tr style=\"text-align: right;\">\n",
       "      <th></th>\n",
       "      <th></th>\n",
       "      <th>task_work_dir</th>\n",
       "      <th>task_logfile</th>\n",
       "      <th>task_id</th>\n",
       "      <th>task_name</th>\n",
       "      <th>task_processtime</th>\n",
       "      <th>Main.MyStudy.Output.MaxMuscleActivity</th>\n",
       "      <th>task_macro_hash</th>\n",
       "      <th>Main.MyModel.PatellaLigament.DriverPos</th>\n",
       "      <th>Main.MyStudy.Output.Abscissa.t</th>\n",
       "    </tr>\n",
       "  </thead>\n",
       "  <tbody>\n",
       "    <tr>\n",
       "      <th rowspan=\"5\" valign=\"top\">0</th>\n",
       "      <th>0</th>\n",
       "      <td>D:\\scratch\\anypytools-tutorial</td>\n",
       "      <td></td>\n",
       "      <td>0</td>\n",
       "      <td>scratch-anypytools-tutorial-0</td>\n",
       "      <td>31.818714</td>\n",
       "      <td>0.022982</td>\n",
       "      <td>1021a3a5c8d89f23</td>\n",
       "      <td>0.02</td>\n",
       "      <td>0.000000</td>\n",
       "    </tr>\n",
       "    <tr>\n",
       "      <th>1</th>\n",
       "      <td>D:\\scratch\\anypytools-tutorial</td>\n",
       "      <td></td>\n",
       "      <td>0</td>\n",
       "      <td>scratch-anypytools-tutorial-0</td>\n",
       "      <td>31.818714</td>\n",
       "      <td>0.023878</td>\n",
       "      <td>1021a3a5c8d89f23</td>\n",
       "      <td>0.02</td>\n",
       "      <td>0.024242</td>\n",
       "    </tr>\n",
       "    <tr>\n",
       "      <th>2</th>\n",
       "      <td>D:\\scratch\\anypytools-tutorial</td>\n",
       "      <td></td>\n",
       "      <td>0</td>\n",
       "      <td>scratch-anypytools-tutorial-0</td>\n",
       "      <td>31.818714</td>\n",
       "      <td>0.025233</td>\n",
       "      <td>1021a3a5c8d89f23</td>\n",
       "      <td>0.02</td>\n",
       "      <td>0.048485</td>\n",
       "    </tr>\n",
       "    <tr>\n",
       "      <th>3</th>\n",
       "      <td>D:\\scratch\\anypytools-tutorial</td>\n",
       "      <td></td>\n",
       "      <td>0</td>\n",
       "      <td>scratch-anypytools-tutorial-0</td>\n",
       "      <td>31.818714</td>\n",
       "      <td>0.027028</td>\n",
       "      <td>1021a3a5c8d89f23</td>\n",
       "      <td>0.02</td>\n",
       "      <td>0.072727</td>\n",
       "    </tr>\n",
       "    <tr>\n",
       "      <th>4</th>\n",
       "      <td>D:\\scratch\\anypytools-tutorial</td>\n",
       "      <td></td>\n",
       "      <td>0</td>\n",
       "      <td>scratch-anypytools-tutorial-0</td>\n",
       "      <td>31.818714</td>\n",
       "      <td>0.029236</td>\n",
       "      <td>1021a3a5c8d89f23</td>\n",
       "      <td>0.02</td>\n",
       "      <td>0.096970</td>\n",
       "    </tr>\n",
       "    <tr>\n",
       "      <th>...</th>\n",
       "      <th>...</th>\n",
       "      <td>...</td>\n",
       "      <td>...</td>\n",
       "      <td>...</td>\n",
       "      <td>...</td>\n",
       "      <td>...</td>\n",
       "      <td>...</td>\n",
       "      <td>...</td>\n",
       "      <td>...</td>\n",
       "      <td>...</td>\n",
       "    </tr>\n",
       "    <tr>\n",
       "      <th rowspan=\"5\" valign=\"top\">5</th>\n",
       "      <th>95</th>\n",
       "      <td>D:\\scratch\\anypytools-tutorial</td>\n",
       "      <td></td>\n",
       "      <td>5</td>\n",
       "      <td>scratch-anypytools-tutorial-5</td>\n",
       "      <td>33.497466</td>\n",
       "      <td>0.010652</td>\n",
       "      <td>1a33afb221d925e2</td>\n",
       "      <td>0.07</td>\n",
       "      <td>2.303030</td>\n",
       "    </tr>\n",
       "    <tr>\n",
       "      <th>96</th>\n",
       "      <td>D:\\scratch\\anypytools-tutorial</td>\n",
       "      <td></td>\n",
       "      <td>5</td>\n",
       "      <td>scratch-anypytools-tutorial-5</td>\n",
       "      <td>33.497466</td>\n",
       "      <td>0.009699</td>\n",
       "      <td>1a33afb221d925e2</td>\n",
       "      <td>0.07</td>\n",
       "      <td>2.327273</td>\n",
       "    </tr>\n",
       "    <tr>\n",
       "      <th>97</th>\n",
       "      <td>D:\\scratch\\anypytools-tutorial</td>\n",
       "      <td></td>\n",
       "      <td>5</td>\n",
       "      <td>scratch-anypytools-tutorial-5</td>\n",
       "      <td>33.497466</td>\n",
       "      <td>0.008954</td>\n",
       "      <td>1a33afb221d925e2</td>\n",
       "      <td>0.07</td>\n",
       "      <td>2.351515</td>\n",
       "    </tr>\n",
       "    <tr>\n",
       "      <th>98</th>\n",
       "      <td>D:\\scratch\\anypytools-tutorial</td>\n",
       "      <td></td>\n",
       "      <td>5</td>\n",
       "      <td>scratch-anypytools-tutorial-5</td>\n",
       "      <td>33.497466</td>\n",
       "      <td>0.008414</td>\n",
       "      <td>1a33afb221d925e2</td>\n",
       "      <td>0.07</td>\n",
       "      <td>2.375758</td>\n",
       "    </tr>\n",
       "    <tr>\n",
       "      <th>99</th>\n",
       "      <td>D:\\scratch\\anypytools-tutorial</td>\n",
       "      <td></td>\n",
       "      <td>5</td>\n",
       "      <td>scratch-anypytools-tutorial-5</td>\n",
       "      <td>33.497466</td>\n",
       "      <td>0.008077</td>\n",
       "      <td>1a33afb221d925e2</td>\n",
       "      <td>0.07</td>\n",
       "      <td>2.400000</td>\n",
       "    </tr>\n",
       "  </tbody>\n",
       "</table>\n",
       "<p>600 rows × 9 columns</p>\n",
       "</div>"
      ],
      "text/plain": [
       "                       task_work_dir task_logfile task_id  \\\n",
       "0 0   D:\\scratch\\anypytools-tutorial                    0   \n",
       "  1   D:\\scratch\\anypytools-tutorial                    0   \n",
       "  2   D:\\scratch\\anypytools-tutorial                    0   \n",
       "  3   D:\\scratch\\anypytools-tutorial                    0   \n",
       "  4   D:\\scratch\\anypytools-tutorial                    0   \n",
       "...                              ...          ...     ...   \n",
       "5 95  D:\\scratch\\anypytools-tutorial                    5   \n",
       "  96  D:\\scratch\\anypytools-tutorial                    5   \n",
       "  97  D:\\scratch\\anypytools-tutorial                    5   \n",
       "  98  D:\\scratch\\anypytools-tutorial                    5   \n",
       "  99  D:\\scratch\\anypytools-tutorial                    5   \n",
       "\n",
       "                          task_name  task_processtime  \\\n",
       "0 0   scratch-anypytools-tutorial-0         31.818714   \n",
       "  1   scratch-anypytools-tutorial-0         31.818714   \n",
       "  2   scratch-anypytools-tutorial-0         31.818714   \n",
       "  3   scratch-anypytools-tutorial-0         31.818714   \n",
       "  4   scratch-anypytools-tutorial-0         31.818714   \n",
       "...                             ...               ...   \n",
       "5 95  scratch-anypytools-tutorial-5         33.497466   \n",
       "  96  scratch-anypytools-tutorial-5         33.497466   \n",
       "  97  scratch-anypytools-tutorial-5         33.497466   \n",
       "  98  scratch-anypytools-tutorial-5         33.497466   \n",
       "  99  scratch-anypytools-tutorial-5         33.497466   \n",
       "\n",
       "      Main.MyStudy.Output.MaxMuscleActivity   task_macro_hash  \\\n",
       "0 0                                0.022982  1021a3a5c8d89f23   \n",
       "  1                                0.023878  1021a3a5c8d89f23   \n",
       "  2                                0.025233  1021a3a5c8d89f23   \n",
       "  3                                0.027028  1021a3a5c8d89f23   \n",
       "  4                                0.029236  1021a3a5c8d89f23   \n",
       "...                                     ...               ...   \n",
       "5 95                               0.010652  1a33afb221d925e2   \n",
       "  96                               0.009699  1a33afb221d925e2   \n",
       "  97                               0.008954  1a33afb221d925e2   \n",
       "  98                               0.008414  1a33afb221d925e2   \n",
       "  99                               0.008077  1a33afb221d925e2   \n",
       "\n",
       "      Main.MyModel.PatellaLigament.DriverPos  Main.MyStudy.Output.Abscissa.t  \n",
       "0 0                                     0.02                        0.000000  \n",
       "  1                                     0.02                        0.024242  \n",
       "  2                                     0.02                        0.048485  \n",
       "  3                                     0.02                        0.072727  \n",
       "  4                                     0.02                        0.096970  \n",
       "...                                      ...                             ...  \n",
       "5 95                                    0.07                        2.303030  \n",
       "  96                                    0.07                        2.327273  \n",
       "  97                                    0.07                        2.351515  \n",
       "  98                                    0.07                        2.375758  \n",
       "  99                                    0.07                        2.400000  \n",
       "\n",
       "[600 rows x 9 columns]"
      ]
     },
     "execution_count": 3,
     "metadata": {},
     "output_type": "execute_result"
    }
   ],
   "source": [
    "import numpy as np\n",
    "\n",
    "df = results.to_dataframe(index_var='Main.MyStudy.Output.Abscissa.t')\n",
    "df"
   ]
  },
  {
   "cell_type": "markdown",
   "metadata": {},
   "source": [
    "The `index_var` specifies which variable becomes the x axis in the dataset. Other variables which doesn't have the same first dimension as the `index_var` will flabe repeated along that dimension. This allows you to export which are not a function of time. Those variables then become constants.\n",
    "\n",
    "Line plots only work if you have the same x axis across all simulations. Otherwise, you need to interpolate the data.\n",
    "\n",
    "Now plotting the data is really simple with a library like for example [seaborn](https://seaborn.pydata.org/):"
   ]
  },
  {
   "cell_type": "code",
   "execution_count": 4,
   "metadata": {},
   "outputs": [
    {
     "data": {
      "image/png": "[encoded data removed]",
      "text/plain": [
       "<Figure size 640x480 with 1 Axes>"
      ]
     },
     "metadata": {},
     "output_type": "display_data"
    }
   ],
   "source": [
    "import seaborn as sns\n",
    "\n",
    "g = sns.lineplot(\n",
    "    data=df,\n",
    "    x=\"Main.MyStudy.Output.Abscissa.t\",\n",
    "    y=\"Main.MyStudy.Output.MaxMuscleActivity\",\n",
    "    hue=\"Main.MyModel.PatellaLigament.DriverPos\",\n",
    ")\n",
    "g.legend(title=\"Patella length (m)\", loc='lower left', bbox_to_anchor=(1, 0.5));\n"
   ]
  },
  {
   "cell_type": "markdown",
   "metadata": {},
   "source": [
    "## Working with AnyOutputFiles"
   ]
  },
  {
   "cell_type": "markdown",
   "metadata": {},
   "source": [
    "The `AnyOutputFile` class is an other methods of exporting data from AnyBody. It is a AnyScript class in the AnyBody Modeling System which produces text files with data when a simulation is run. These text files are very similar to comma seperated files with some additional header information. \n",
    "\n",
    "Here is an example below:"
   ]
  },
  {
   "cell_type": "code",
   "execution_count": 5,
   "metadata": {},
   "outputs": [
    {
     "name": "stdout",
     "output_type": "stream",
     "text": [
      "Overwriting TestOutput.csv\n"
     ]
    }
   ],
   "source": [
    "%%writefile TestOutput.csv\n",
    "---- AnyBody Output File ---------------------------------\n",
    "Study Main.MyStudy\n",
    "Operation Main.MyStudy.InverseDynamics\n",
    "----------------------------------------------------------\n",
    "Constants (Name = Value) \n",
    "Main.MyStudy.FileOutput.ConstName = HelloWorld\n",
    "Main.MyStudy.nStep = 5\n",
    "Main.MyModel.Femur.Knee.sRel = { 0.000000000000000e+000, -3.000000000000000e-001,  0.000000000000000e+000}\n",
    "----------------------------------------------------------\n",
    "Variables (Column# Name) \n",
    "col0  Main.MyStudy.t\n",
    "col1  Main.MyStudy.MomentArm\n",
    "----------------------------------------------------------\n",
    "Main.MyStudy.t,Main.MyStudy.MomentArm\n",
    " 0.000000000000000e+000, 3.517106754087954e-002\n",
    " 6.000000000000000e-001, 4.256597756479537e-002\n",
    " 1.200000000000000e+000,-2.495531558514929e-004\n",
    " 1.800000000000000e+000, 4.256603812471121e-002\n",
    " 2.400000000000000e+000, 3.517106649790244e-002\n"
   ]
  },
  {
   "cell_type": "markdown",
   "metadata": {},
   "source": [
    "It is not particular difficult to read. You could write you own custom Python, Matlab code to parse the values. But **`anypytools`**  has a few convinience functions that makes it very easy to load the files. \n",
    "\n",
    "This is especially usefull for the header information which can be annoying to parse manually. "
   ]
  },
  {
   "cell_type": "code",
   "execution_count": 6,
   "metadata": {},
   "outputs": [],
   "source": [
    "from anypytools.datautils import read_anyoutputfile\n",
    "\n",
    "data, header, constants = read_anyoutputfile(\"TestOutput.csv\")"
   ]
  },
  {
   "cell_type": "markdown",
   "metadata": {},
   "source": [
    "The function returns three outputs. An array with the time dependent data, and a list of header names:"
   ]
  },
  {
   "cell_type": "code",
   "execution_count": 7,
   "metadata": {},
   "outputs": [
    {
     "data": {
      "text/plain": [
       "(['Main.MyStudy.t', 'Main.MyStudy.MomentArm'],\n",
       " array([[ 0.00000000e+00,  3.51710675e-02],\n",
       "        [ 6.00000000e-01,  4.25659776e-02],\n",
       "        [ 1.20000000e+00, -2.49553156e-04],\n",
       "        [ 1.80000000e+00,  4.25660381e-02],\n",
       "        [ 2.40000000e+00,  3.51710665e-02]]))"
      ]
     },
     "execution_count": 7,
     "metadata": {},
     "output_type": "execute_result"
    }
   ],
   "source": [
    "header, data"
   ]
  },
  {
   "cell_type": "markdown",
   "metadata": {},
   "source": [
    "and python dictonary with constant values:"
   ]
  },
  {
   "cell_type": "code",
   "execution_count": 8,
   "metadata": {},
   "outputs": [
    {
     "data": {
      "text/plain": [
       "{'Main.MyStudy.FileOutput.ConstName': 'HelloWorld',\n",
       " 'Main.MyStudy.nStep': 5.0,\n",
       " 'Main.MyModel.Femur.Knee.sRel': array([ 0. , -0.3,  0. ])}"
      ]
     },
     "execution_count": 8,
     "metadata": {},
     "output_type": "execute_result"
    }
   ],
   "source": [
    "constants"
   ]
  },
  {
   "cell_type": "markdown",
   "metadata": {},
   "source": [
    "## Working with HDF5 files"
   ]
  },
  {
   "cell_type": "markdown",
   "metadata": {},
   "source": [
    "Sometimes, it can be convenient to save the entire model along with all its data (although this can be several hundred megabytes). It is useful if we later want to analyze other output variables from the model. It can also be useful if we want to load the data in the AnyBody graphical user application and replay the result.\n",
    "\n",
    "AnyBody has a feature to save the output of a study to an HDF5 file. And like most things in AnyBody, this can also be done with a macro command. \n",
    "\n",
    "Let us try this with the model from the previous tutorials."
   ]
  },
  {
   "cell_type": "code",
   "execution_count": 9,
   "metadata": {},
   "outputs": [
    {
     "data": {
      "text/plain": [
       "[load \"Knee.any\",\n",
       " operation Main.MyStudy.Kinematics\n",
       " run,\n",
       " classoperation Main.MyStudy.Output \"Save data\" --type=\"Deep\" --file=\"output.anydata.h5\"]"
      ]
     },
     "execution_count": 9,
     "metadata": {},
     "output_type": "execute_result"
    }
   ],
   "source": [
    "from anypytools.macro_commands import Load, OperationRun, SaveData\n",
    "\n",
    "macrolist = [\n",
    "  Load('Knee.any'),\n",
    "  OperationRun('Main.MyStudy.Kinematics'),\n",
    "  SaveData('Main.MyStudy', 'output.anydata.h5'),\n",
    "]\n",
    "macrolist"
   ]
  },
  {
   "cell_type": "markdown",
   "metadata": {},
   "source": [
    " Here we have added a \"`Save data`\" classoperation to the macro. "
   ]
  },
  {
   "cell_type": "code",
   "execution_count": 10,
   "metadata": {},
   "outputs": [
    {
     "data": {
      "application/vnd.jupyter.widget-view+json": {
       "model_id": "6c0eac00c32d4743a2442715ecfa951d",
       "version_major": 2,
       "version_minor": 0
      },
      "text/plain": [
       "Output()"
      ]
     },
     "metadata": {},
     "output_type": "display_data"
    },
    {
     "name": "stdout",
     "output_type": "stream",
     "text": [
      "Completed: \u001b[1;36m1\u001b[0m\n"
     ]
    },
    {
     "data": {
      "text/html": [
       "<pre style=\"white-space:pre;overflow-x:auto;line-height:normal;font-family:Menlo,'DejaVu Sans Mono',consolas,'Courier New',monospace\"></pre>\n"
      ],
      "text/plain": []
     },
     "metadata": {},
     "output_type": "display_data"
    }
   ],
   "source": [
    "from anypytools import AnyPyProcess \n",
    "app = AnyPyProcess()\n",
    "\n",
    "app.start_macro(macrolist);"
   ]
  },
  {
   "cell_type": "markdown",
   "metadata": {},
   "source": [
    "The data stored in the file **output.anydata.h5** can be re-loaded in the AnyBody GUI application. \n",
    "\n",
    "To do this; load the model, and then right click the `Main.MyStudy.Output` folder and select \"Load data\". \n",
    "\n",
    "These files can also be loaded into Matlab or Python. In python this is done using the *`h5py`* module\n",
    "\n"
   ]
  },
  {
   "cell_type": "code",
   "execution_count": 11,
   "metadata": {},
   "outputs": [
    {
     "name": "stdout",
     "output_type": "stream",
     "text": [
      "[0.03517107 0.03518544 0.03522538 0.03529129 0.03538355 0.03550231\n",
      " 0.03564761 0.03581929 0.03601707 0.03624048 0.03648895 0.03676178\n",
      " 0.03705816 0.03737724 0.03771812 0.03807991 0.03846173 0.03886281\n",
      " 0.03928244 0.03972002 0.0401751  0.04064731 0.04113638 0.04164206\n",
      " 0.04216406 0.04270195 0.04325503 0.04382223 0.04440197 0.04499208\n",
      " 0.04558969 0.04619126 0.04679259 0.04738895 0.04797527 0.04854637\n",
      " 0.0490972  0.04962319 0.05012044 0.0505859  0.051017   0.0514114\n",
      " 0.05176698 0.0520819  0.05235456 0.05258365 0.05276812 0.05290715\n",
      " 0.05300015 0.05304675 0.05304675 0.05300015 0.05290715 0.05276812\n",
      " 0.05258365 0.05235456 0.0520819  0.05176698 0.0514114  0.051017\n",
      " 0.0505859  0.05012044 0.04962319 0.0490972  0.04854637 0.04797527\n",
      " 0.04738895 0.04679259 0.04619126 0.04558969 0.04499208 0.04440197\n",
      " 0.04382223 0.04325503 0.04270195 0.04216406 0.04164206 0.04113638\n",
      " 0.04064731 0.0401751  0.03972002 0.03928244 0.03886281 0.03846173\n",
      " 0.03807991 0.03771812 0.03737724 0.03705816 0.03676178 0.03648895\n",
      " 0.03624048 0.03601707 0.03581929 0.03564761 0.03550231 0.03538355\n",
      " 0.03529129 0.03522538 0.03518546 0.03517104]\n"
     ]
    }
   ],
   "source": [
    "import numpy as np\n",
    "import h5py\n",
    "\n",
    "h5file = h5py.File('output.anydata.h5', \"r\")\n",
    "data = np.array( h5file['/Output/MomentArm'] )\n",
    "h5file.close()\n",
    "print(data)"
   ]
  },
  {
   "cell_type": "markdown",
   "metadata": {},
   "source": [
    "The data structure of the HDF5 files can, unfortunately, be very confusing. AnyBody does not save duplicate copies of the same data. If there are multiple references to the same folder, only one will be present in the HDF5 file. \n",
    "In our model `Knee.any` we have a reference to the **`Knee`** joint folder. Variables inside the **`Knee`** folder cannot be accessed with the path '/Output/Model/Knee/...', but only through global path define by \"/Output/_Main/..\".\n",
    "\n",
    "We can see the problem in the following code snippet:"
   ]
  },
  {
   "cell_type": "code",
   "execution_count": 12,
   "metadata": {},
   "outputs": [
    {
     "name": "stdout",
     "output_type": "stream",
     "text": [
      "False\n",
      "True\n"
     ]
    }
   ],
   "source": [
    "with h5py.File('output.anydata.h5', \"r\") as f:\n",
    "    print('/Output/Model/Knee/Pos' in f)\n",
    "    print('/Output/_Main/MyModel/Knee/Pos' in f)\n"
   ]
  },
  {
   "cell_type": "markdown",
   "metadata": {},
   "source": [
    "This can make it a little more difficult to work with. AnyPyTools contains a wrapper for the h5py module, which automatically locates the right data, no matter what path is used. Using this module, we can easily locate the data. "
   ]
  },
  {
   "cell_type": "code",
   "execution_count": 13,
   "metadata": {},
   "outputs": [
    {
     "name": "stdout",
     "output_type": "stream",
     "text": [
      "True\n",
      "True\n"
     ]
    }
   ],
   "source": [
    "import anypytools.h5py_wrapper as h5py2\n",
    "with h5py2.File('output.anydata.h5', \"r\") as f:\n",
    "    print('/Output/Model/Knee/Pos' in f)\n",
    "    print('/Output/kneeref/Pos' in f)"
   ]
  },
  {
   "cell_type": "markdown",
   "metadata": {},
   "source": [
    "The h5py wrapper will also let us use the AnyScript variable names directly, so we don't have to replace every . (dot) with a / (slash), and remove the stuff before the Output folder. "
   ]
  },
  {
   "cell_type": "code",
   "execution_count": 14,
   "metadata": {},
   "outputs": [],
   "source": [
    "with h5py2.File('output.anydata.h5', \"r\") as f:\n",
    "    momentarm = np.array(f['/Output/MomentArm']) # Standard h5py notation\n",
    "    momentarm = np.array(f['Output.MomentArm'])  # dot notation\n",
    "    kneeangle = np.array(f['Main.MyStudy.Output.Model.Knee.Pos']) # dot notation with full path\n",
    "    "
   ]
  },
  {
   "cell_type": "code",
   "execution_count": 15,
   "metadata": {},
   "outputs": [
    {
     "data": {
      "image/png": "[encoded data removed]",
      "text/plain": [
       "<Figure size 640x480 with 1 Axes>"
      ]
     },
     "metadata": {},
     "output_type": "display_data"
    }
   ],
   "source": [
    "%matplotlib inline\n",
    "from numpy import degrees\n",
    "import matplotlib.pyplot as plt\n",
    "from matplotlib.ticker import FuncFormatter\n",
    "\n",
    "plt.plot(degrees(kneeangle), 100*momentarm)\n",
    "\n",
    "plt.xlabel('Knee flexion (deg)')\n",
    "plt.ylabel('Moment arm (cm)');"
   ]
  }
 ],
 "metadata": {
  "kernelspec": {
   "display_name": "Python 3 (ipykernel)",
   "language": "python",
   "name": "python3"
  },
  "language_info": {
   "codemirror_mode": {
    "name": "ipython",
    "version": 3
   },
   "file_extension": ".py",
   "mimetype": "text/x-python",
   "name": "python",
   "nbconvert_exporter": "python",
   "pygments_lexer": "ipython3",
   "version": "3.12.11"
  },
  "widgets": {
   "application/vnd.jupyter.widget-state+json": {
    "state": {
     "03d50f20208d46e1ae591fdfa1ca82e1": {
      "model_module": "@jupyter-widgets/controls",
      "model_module_version": "1.5.0",
      "model_name": "HBoxModel",
      "state": {
       "children": [
        "IPY_MODEL_3f45d64991ef4131b666acb4b5806a8c",
        "IPY_MODEL_85d9001517604db0b3a1e5f96fcaefd4",
        "IPY_MODEL_8844bf038e354356a6a8ebed6edafc7c"
       ],
       "layout": "IPY_MODEL_6fc36b62a2c642548a759550259a61d6"
      }
     },
     "0cd266c9e079400a987eb0a81f3effbd": {
      "model_module": "@jupyter-widgets/base",
      "model_module_version": "1.2.0",
      "model_name": "LayoutModel",
      "state": {}
     },
     "1faa76cd37c643739b1946474e33bf44": {
      "model_module": "@jupyter-widgets/controls",
      "model_module_version": "1.5.0",
      "model_name": "DescriptionStyleModel",
      "state": {
       "description_width": ""
      }
     },
     "28b297bd370c46bab0f9ab2243ebffff": {
      "model_module": "@jupyter-widgets/controls",
      "model_module_version": "1.5.0",
      "model_name": "HBoxModel",
      "state": {
       "children": [
        "IPY_MODEL_c6650c25f6a24473bce6e14c21b175da",
        "IPY_MODEL_58cd7565c37648b8a1b6b0dae869d5c2",
        "IPY_MODEL_62a3ab5a237e43f5bdc70cf679794dd8"
       ],
       "layout": "IPY_MODEL_fab455e0789342a3b438b2b8a6f22960"
      }
     },
     "3a0654f3e2b242f3b16e2d281ffceb9d": {
      "model_module": "@jupyter-widgets/base",
      "model_module_version": "1.2.0",
      "model_name": "LayoutModel",
      "state": {}
     },
     "3f45d64991ef4131b666acb4b5806a8c": {
      "model_module": "@jupyter-widgets/controls",
      "model_module_version": "1.5.0",
      "model_name": "HTMLModel",
      "state": {
       "layout": "IPY_MODEL_4e3780142bf34c04ba1db9122ebdbb91",
       "style": "IPY_MODEL_1faa76cd37c643739b1946474e33bf44",
       "value": "100%"
      }
     },
     "4d8c75bea4c146f7ae7d1e1b67c23433": {
      "model_module": "@jupyter-widgets/base",
      "model_module_version": "1.2.0",
      "model_name": "LayoutModel",
      "state": {}
     },
     "4e3780142bf34c04ba1db9122ebdbb91": {
      "model_module": "@jupyter-widgets/base",
      "model_module_version": "1.2.0",
      "model_name": "LayoutModel",
      "state": {}
     },
     "540cbef2d76b421d81e17ff2650e1034": {
      "model_module": "@jupyter-widgets/controls",
      "model_module_version": "1.5.0",
      "model_name": "ProgressStyleModel",
      "state": {
       "description_width": ""
      }
     },
     "58cd7565c37648b8a1b6b0dae869d5c2": {
      "model_module": "@jupyter-widgets/controls",
      "model_module_version": "1.5.0",
      "model_name": "FloatProgressModel",
      "state": {
       "bar_style": "success",
       "layout": "IPY_MODEL_3a0654f3e2b242f3b16e2d281ffceb9d",
       "max": 1,
       "style": "IPY_MODEL_c7010308363d4be89563e730865e200f",
       "value": 1
      }
     },
     "62a3ab5a237e43f5bdc70cf679794dd8": {
      "model_module": "@jupyter-widgets/controls",
      "model_module_version": "1.5.0",
      "model_name": "HTMLModel",
      "state": {
       "layout": "IPY_MODEL_4d8c75bea4c146f7ae7d1e1b67c23433",
       "style": "IPY_MODEL_a9898db9a9794735b8caa7fce2eef014",
       "value": " 1/1 [00:00&lt;00:00,  1.09it/s]"
      }
     },
     "6fc36b62a2c642548a759550259a61d6": {
      "model_module": "@jupyter-widgets/base",
      "model_module_version": "1.2.0",
      "model_name": "LayoutModel",
      "state": {}
     },
     "85d9001517604db0b3a1e5f96fcaefd4": {
      "model_module": "@jupyter-widgets/controls",
      "model_module_version": "1.5.0",
      "model_name": "FloatProgressModel",
      "state": {
       "bar_style": "success",
       "layout": "IPY_MODEL_0cd266c9e079400a987eb0a81f3effbd",
       "max": 6,
       "style": "IPY_MODEL_540cbef2d76b421d81e17ff2650e1034",
       "value": 6
      }
     },
     "8844bf038e354356a6a8ebed6edafc7c": {
      "model_module": "@jupyter-widgets/controls",
      "model_module_version": "1.5.0",
      "model_name": "HTMLModel",
      "state": {
       "layout": "IPY_MODEL_a522f8b2f8f648f688fded6558c28f0f",
       "style": "IPY_MODEL_feb2f0d7d83340deae97de119f753686",
       "value": " 6/6 [00:04&lt;00:00,  1.39it/s]"
      }
     },
     "a522f8b2f8f648f688fded6558c28f0f": {
      "model_module": "@jupyter-widgets/base",
      "model_module_version": "1.2.0",
      "model_name": "LayoutModel",
      "state": {}
     },
     "a9898db9a9794735b8caa7fce2eef014": {
      "model_module": "@jupyter-widgets/controls",
      "model_module_version": "1.5.0",
      "model_name": "DescriptionStyleModel",
      "state": {
       "description_width": ""
      }
     },
     "c6650c25f6a24473bce6e14c21b175da": {
      "model_module": "@jupyter-widgets/controls",
      "model_module_version": "1.5.0",
      "model_name": "HTMLModel",
      "state": {
       "layout": "IPY_MODEL_e8314e2e49d44b2898af56b3f09f3332",
       "style": "IPY_MODEL_e4ae7550463643b796cbb54ca05470d6",
       "value": "100%"
      }
     },
     "c7010308363d4be89563e730865e200f": {
      "model_module": "@jupyter-widgets/controls",
      "model_module_version": "1.5.0",
      "model_name": "ProgressStyleModel",
      "state": {
       "description_width": ""
      }
     },
     "e4ae7550463643b796cbb54ca05470d6": {
      "model_module": "@jupyter-widgets/controls",
      "model_module_version": "1.5.0",
      "model_name": "DescriptionStyleModel",
      "state": {
       "description_width": ""
      }
     },
     "e8314e2e49d44b2898af56b3f09f3332": {
      "model_module": "@jupyter-widgets/base",
      "model_module_version": "1.2.0",
      "model_name": "LayoutModel",
      "state": {}
     },
     "fab455e0789342a3b438b2b8a6f22960": {
      "model_module": "@jupyter-widgets/base",
      "model_module_version": "1.2.0",
      "model_name": "LayoutModel",
      "state": {}
     },
     "feb2f0d7d83340deae97de119f753686": {
      "model_module": "@jupyter-widgets/controls",
      "model_module_version": "1.5.0",
      "model_name": "DescriptionStyleModel",
      "state": {
       "description_width": ""
      }
     }
    },
    "version_major": 2,
    "version_minor": 0
   }
  }
 },
 "nbformat": 4,
 "nbformat_minor": 4
}
