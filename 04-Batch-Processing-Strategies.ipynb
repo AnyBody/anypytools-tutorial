{
 "cells": [
  {
   "cell_type": "markdown",
   "metadata": {
    "slideshow": {
     "slide_type": "slide"
    }
   },
   "source": [
    "## Batch processing\n",
    "The approach depends on how the AnyBody model is structured.\n",
    "\n",
    "- Setup with a single main file - Every macro is differnt\n",
    "\n",
    "\n",
    "     \n",
    "- Setup with multiple main files:\n",
    "    - Each main file defines its own parameters\n",
    "    - All macros are the same. Main files in Diffent folders\n",
    "\n"
   ]
  },
  {
   "cell_type": "markdown",
   "metadata": {
    "slideshow": {
     "slide_type": "subslide"
    }
   },
   "source": [
    "![Batch Process model](Tutorial_files/batch_process_folder.png)\n",
    "\n",
    "![Batch Process main file](Tutorial_files/batch_process_folder_model.png)\n",
    "\n",
    "\n",
    "![Batch Process model](Tutorial_files/batch_process_mainfile.png)\n",
    "\n",
    "<!-- <img src=\"Tutorial_files/batch_process_folder_model.png\" alt=\"Drawing\" align=\"Left\" />\n",
    "\n",
    "<img src=\"Tutorial_files/batch_process_mainfile.png\" alt=\"Drawing\" align=\"Left\" /> -->"
   ]
  },
  {
   "cell_type": "code",
   "execution_count": 1,
   "metadata": {
    "collapsed": false,
    "jupyter": {
     "outputs_hidden": false
    },
    "slideshow": {
     "slide_type": "subslide"
    }
   },
   "outputs": [
    {
     "data": {
      "text/plain": [
       "[load \"main.any\",\n",
       " operation Main.Study.Kinematics\n",
       " run]"
      ]
     },
     "execution_count": 1,
     "metadata": {},
     "output_type": "execute_result"
    }
   ],
   "source": [
    "from anypytools import AnyPyProcess\n",
    "from anypytools.macro_commands import Load, OperationRun\n",
    "app = AnyPyProcess(num_processes = 3)\n",
    "\n",
    "macro = [\n",
    "    Load(\"main.any\"),\n",
    "    OperationRun('Main.Study.Kinematics') ]\n",
    "macro    "
   ]
  },
  {
   "cell_type": "code",
   "execution_count": 2,
   "metadata": {
    "collapsed": false,
    "jupyter": {
     "outputs_hidden": false
    }
   },
   "outputs": [
    {
     "data": {
      "application/vnd.jupyter.widget-view+json": {
       "model_id": "ad53ed2c81584f5bae075a7f8a7a3edf",
       "version_major": 2,
       "version_minor": 0
      },
      "text/plain": [
       "Output()"
      ]
     },
     "metadata": {},
     "output_type": "display_data"
    },
    {
     "name": "stdout",
     "output_type": "stream",
     "text": [
      "Completed: \u001b[1;36m9\u001b[0m\n"
     ]
    },
    {
     "data": {
      "text/html": [
       "<pre style=\"white-space:pre;overflow-x:auto;line-height:normal;font-family:Menlo,'DejaVu Sans Mono',consolas,'Courier New',monospace\"></pre>\n"
      ],
      "text/plain": []
     },
     "metadata": {},
     "output_type": "display_data"
    }
   ],
   "source": [
    "app.start_macro(macro, search_subdirs= \"Trial[0-9]{2}.*main.any\" );"
   ]
  },
  {
   "cell_type": "code",
   "execution_count": null,
   "metadata": {},
   "outputs": [],
   "source": []
  }
 ],
 "metadata": {
  "anaconda-cloud": {},
  "celltoolbar": "Slideshow",
  "kernelspec": {
   "display_name": "Python 3 (ipykernel)",
   "language": "python",
   "name": "python3"
  },
  "language_info": {
   "codemirror_mode": {
    "name": "ipython",
    "version": 3
   },
   "file_extension": ".py",
   "mimetype": "text/x-python",
   "name": "python",
   "nbconvert_exporter": "python",
   "pygments_lexer": "ipython3",
   "version": "3.12.11"
  },
  "livereveal": {
   "height": 900,
   "width": 1490
  }
 },
 "nbformat": 4,
 "nbformat_minor": 4
}
